{
 "cells": [
  {
   "cell_type": "code",
   "id": "initial_id",
   "metadata": {
    "collapsed": true,
    "ExecuteTime": {
     "end_time": "2025-10-24T14:36:17.019827Z",
     "start_time": "2025-10-24T14:36:14.555731Z"
    }
   },
   "source": [
    "# Import necessary libraries\n",
    "from transformers import AutoTokenizer"
   ],
   "outputs": [],
   "execution_count": 1
  },
  {
   "metadata": {},
   "cell_type": "markdown",
   "source": "## Basic Tokenization Using Python's Split",
   "id": "d116099c938b1cf"
  },
  {
   "metadata": {
    "ExecuteTime": {
     "end_time": "2025-10-24T14:36:22.152972Z",
     "start_time": "2025-10-24T14:36:22.150556Z"
    }
   },
   "cell_type": "code",
   "source": [
    "text = \"Hello, world! This is a test.\"\n",
    "print(\"Original text:\", text)\n",
    "# Using Python's split method to tokenize the sentence based on spaces\n",
    "tokens = text.split()\n",
    "print(\"Basic split tokens:\", tokens)\n",
    "# Output: ['Hello,', 'world!', 'This', 'is', 'a', 'test.']\n",
    "print(\"\\n\")  # For clarity in output"
   ],
   "id": "b65875ba080d3f68",
   "outputs": [
    {
     "name": "stdout",
     "output_type": "stream",
     "text": [
      "Original text: Hello, world! This is a test.\n",
      "Basic split tokens: ['Hello,', 'world!', 'This', 'is', 'a', 'test.']\n",
      "\n",
      "\n"
     ]
    }
   ],
   "execution_count": 2
  },
  {
   "metadata": {},
   "cell_type": "markdown",
   "source": "## Tokenization Using a Pre-trained BERT Tokenizer",
   "id": "617280835ca22659"
  },
  {
   "metadata": {
    "ExecuteTime": {
     "end_time": "2025-10-24T14:36:31.010449Z",
     "start_time": "2025-10-24T14:36:30.711289Z"
    }
   },
   "cell_type": "code",
   "source": [
    "# Load a pre-trained tokenizer (e.g., BERT base uncased)\n",
    "print(\"Loading pre-trained BERT tokenizer (bert-base-uncased)...\")\n",
    "tokenizer = AutoTokenizer.from_pretrained('bert-base-uncased')\n",
    "\n",
    "# Tokenize a sentence\n",
    "text = \"Hello, how are you?\"\n",
    "print(f\"Original text: '{text}'\")\n",
    "tokens = tokenizer.tokenize(text)\n",
    "print(\"Tokens from BERT tokenizer:\", tokens)\n",
    "# Output: ['hello', ',', 'how', 'are', 'you', '?']\n",
    "\n",
    "# Convert tokens to input IDs\n",
    "input_ids = tokenizer.encode(text)\n",
    "print(\"Input IDs from BERT tokenizer:\", input_ids)\n",
    "# Output: [101, 7592, 1010, 2129, 2024, 2017, 1029, 102]\n",
    "\n",
    "# Tokenize with padding and truncation to a fixed length\n",
    "print(\"\\nEncoding with padding/truncation to max length of 10...\")\n",
    "encoded = tokenizer.encode_plus(\n",
    "    text,\n",
    "    max_length=10,\n",
    "    padding='max_length',\n",
    "    truncation=True,\n",
    "    return_tensors='pt'  # Return PyTorch tensors\n",
    ")\n",
    "print(\"Encoded input with padding and truncation:\", encoded)\n",
    "\n",
    "# Tokenize a batch of texts\n",
    "texts = [\"Hello, how are you?\", \"I'm fine, thank you.\"]\n",
    "print(\"\\nTokenizing a batch of texts...\")\n",
    "encoded_batch = tokenizer(\n",
    "    texts,\n",
    "    padding=True,\n",
    "    truncation=True,\n",
    "    return_tensors='pt'\n",
    ")\n",
    "print(\"Encoded batch:\", encoded_batch)\n",
    "print(\"\\n\")  # For clarity in output"
   ],
   "id": "5a902b5aa829a0c1",
   "outputs": [
    {
     "name": "stdout",
     "output_type": "stream",
     "text": [
      "Loading pre-trained BERT tokenizer (bert-base-uncased)...\n",
      "Original text: 'Hello, how are you?'\n",
      "Tokens from BERT tokenizer: ['hello', ',', 'how', 'are', 'you', '?']\n",
      "Input IDs from BERT tokenizer: [101, 7592, 1010, 2129, 2024, 2017, 1029, 102]\n",
      "\n",
      "Encoding with padding/truncation to max length of 10...\n",
      "Encoded input with padding and truncation: {'input_ids': tensor([[ 101, 7592, 1010, 2129, 2024, 2017, 1029,  102,    0,    0]]), 'token_type_ids': tensor([[0, 0, 0, 0, 0, 0, 0, 0, 0, 0]]), 'attention_mask': tensor([[1, 1, 1, 1, 1, 1, 1, 1, 0, 0]])}\n",
      "\n",
      "Tokenizing a batch of texts...\n",
      "Encoded batch: {'input_ids': tensor([[ 101, 7592, 1010, 2129, 2024, 2017, 1029,  102,    0,    0],\n",
      "        [ 101, 1045, 1005, 1049, 2986, 1010, 4067, 2017, 1012,  102]]), 'token_type_ids': tensor([[0, 0, 0, 0, 0, 0, 0, 0, 0, 0],\n",
      "        [0, 0, 0, 0, 0, 0, 0, 0, 0, 0]]), 'attention_mask': tensor([[1, 1, 1, 1, 1, 1, 1, 1, 0, 0],\n",
      "        [1, 1, 1, 1, 1, 1, 1, 1, 1, 1]])}\n",
      "\n",
      "\n"
     ]
    }
   ],
   "execution_count": 3
  }
 ],
 "metadata": {
  "kernelspec": {
   "display_name": "Python 3",
   "language": "python",
   "name": "python3"
  },
  "language_info": {
   "codemirror_mode": {
    "name": "ipython",
    "version": 2
   },
   "file_extension": ".py",
   "mimetype": "text/x-python",
   "name": "python",
   "nbconvert_exporter": "python",
   "pygments_lexer": "ipython2",
   "version": "2.7.6"
  }
 },
 "nbformat": 4,
 "nbformat_minor": 5
}
